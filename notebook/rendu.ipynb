{
 "cells": [
  {
   "cell_type": "code",
   "execution_count": 77,
   "metadata": {},
   "outputs": [],
   "source": [
    "import torch\n",
    "from torchvision import datasets\n",
    "import torchvision.transforms as T\n",
    "import matplotlib.pyplot as plt"
   ]
  },
  {
   "cell_type": "code",
   "execution_count": 78,
   "metadata": {},
   "outputs": [
    {
     "name": "stdout",
     "output_type": "stream",
     "text": [
      "Files already downloaded and verified\n",
      "Files already downloaded and verified\n"
     ]
    }
   ],
   "source": [
    "' ! Importer un dataset prefait (CIFAR10)'\n",
    "\n",
    "training_dataset = datasets.CIFAR10(\n",
    "    root=\"data\",\n",
    "    train=True,\n",
    "    download=True,\n",
    "    transform=T.ToTensor()\n",
    ")\n",
    "\n",
    "test_dataset = datasets.CIFAR10(\n",
    "    root=\"data\",\n",
    "    train=False,\n",
    "    download=True,\n",
    "    transform=T.ToTensor()\n",
    ")"
   ]
  },
  {
   "cell_type": "code",
   "execution_count": 79,
   "metadata": {},
   "outputs": [
    {
     "name": "stdout",
     "output_type": "stream",
     "text": [
      "Dataset CIFAR10\n",
      "    Number of datapoints: 50000\n",
      "    Root location: data\n",
      "    Split: Train\n",
      "    StandardTransform\n",
      "Transform: ToTensor()\n",
      "(50000, 32, 32, 3)\n"
     ]
    }
   ],
   "source": [
    "print(training_dataset)\n",
    "print(training_dataset.data.shape)"
   ]
  },
  {
   "cell_type": "code",
   "execution_count": 80,
   "metadata": {},
   "outputs": [
    {
     "name": "stdout",
     "output_type": "stream",
     "text": [
      "Mean: tensor([0.4919, 0.4827, 0.4472])\n",
      "Variance: tensor([0.2023, 0.1994, 0.2010])\n"
     ]
    }
   ],
   "source": [
    "from torch.utils.data import ConcatDataset\n",
    "\n",
    "mean = torch.zeros(3) # ! Initialiser pour 3 canaux\n",
    "std = torch.zeros(3) # ! Initialiser pour 3 canaux\n",
    "\n",
    "combined_data = ConcatDataset([training_dataset, test_dataset])\n",
    "\n",
    "# Calculer la moyenne et l'écart-type\n",
    "for image, _ in combined_data:\n",
    "    mean += image.mean(dim=(1, 2))  # ! Moyenne sur H, W pour chaque canal\n",
    "    std += image.std(dim=(1, 2))    # ! Écart-type sur H, W pour chaque canal\n",
    "\n",
    "# Moyenne globale sur toutes les images\n",
    "mean /= len(combined_data)\n",
    "std /= len(combined_data)\n",
    "\n",
    "print(f\"Mean: {mean}\")\n",
    "print(f\"Variance: {std}\")"
   ]
  },
  {
   "cell_type": "code",
   "execution_count": 81,
   "metadata": {},
   "outputs": [
    {
     "name": "stdout",
     "output_type": "stream",
     "text": [
      "Files already downloaded and verified\n",
      "Files already downloaded and verified\n"
     ]
    }
   ],
   "source": [
    "training_dataset_v2 = datasets.CIFAR10(\n",
    "    root=\"data\",\n",
    "    train=True,\n",
    "    download=True,\n",
    "    transform=T.Compose([\n",
    "        T.RandomHorizontalFlip(p=0.5),\n",
    "        T.RandomRotation(10),\n",
    "        T.ToTensor(),\n",
    "        T.Normalize((mean), (std))\n",
    "    ])\n",
    ")\n",
    "\n",
    "test_dataset_v2 = datasets.CIFAR10(\n",
    "    root=\"data\",\n",
    "    train=False,\n",
    "    download=True,\n",
    "    transform=T.Compose([T.ToTensor(), T.Normalize((mean), (std))])\n",
    ")"
   ]
  },
  {
   "cell_type": "code",
   "execution_count": 82,
   "metadata": {},
   "outputs": [
    {
     "name": "stdout",
     "output_type": "stream",
     "text": [
      "Mean: tensor([-0.0744, -0.0766, -0.0711])\n",
      "Variance: tensor([1.0732, 1.0719, 1.0590])\n"
     ]
    }
   ],
   "source": [
    "from torch.utils.data import ConcatDataset\n",
    "\n",
    "mean = torch.zeros(3) # ! Initialiser pour 3 canaux\n",
    "std = torch.zeros(3) # ! Initialiser pour 3 canaux\n",
    "\n",
    "combined_data = ConcatDataset([training_dataset_v2, test_dataset_v2])\n",
    "\n",
    "# Calculer la moyenne et l'écart-type\n",
    "for image, _ in combined_data:\n",
    "    mean += image.mean(dim=(1, 2))  # ! Moyenne sur H, W pour chaque canal\n",
    "    std += image.std(dim=(1, 2))    # ! Écart-type sur H, W pour chaque canal\n",
    "\n",
    "# Moyenne globale sur toutes les images\n",
    "mean /= len(combined_data)\n",
    "std /= len(combined_data)\n",
    "\n",
    "print(f\"Mean: {mean}\")\n",
    "print(f\"Variance: {std}\")"
   ]
  },
  {
   "cell_type": "code",
   "execution_count": 83,
   "metadata": {},
   "outputs": [
    {
     "name": "stdout",
     "output_type": "stream",
     "text": [
      "Shape X : torch.Size([64, 3, 32, 32])\n",
      "Shape y : torch.Size([64])\n"
     ]
    }
   ],
   "source": [
    "from torch.utils.data import DataLoader\n",
    "\n",
    "batch_size = 64  # Taille du batch\n",
    "\n",
    "# Création des DataLoader pour entraîner et tester\n",
    "train_dataloader_v2 = DataLoader(training_dataset, batch_size=batch_size, shuffle=True)\n",
    "test_dataloader_v2 = DataLoader(test_dataset, batch_size=batch_size)\n",
    "\n",
    "# Vérification de la forme des données\n",
    "for X, y in test_dataloader_v2:\n",
    "    print(f\"Shape X : {X.shape}\")  # ! Batch, Canaux, Hauteur, Largeur\n",
    "    print(f\"Shape y : {y.shape}\")  # ! Batch de labels\n",
    "    break\n"
   ]
  },
  {
   "cell_type": "code",
   "execution_count": 84,
   "metadata": {},
   "outputs": [
    {
     "data": {
      "text/plain": [
       "['airplane',\n",
       " 'automobile',\n",
       " 'bird',\n",
       " 'cat',\n",
       " 'deer',\n",
       " 'dog',\n",
       " 'frog',\n",
       " 'horse',\n",
       " 'ship',\n",
       " 'truck']"
      ]
     },
     "execution_count": 84,
     "metadata": {},
     "output_type": "execute_result"
    }
   ],
   "source": [
    "training_dataset_v2.classes"
   ]
  },
  {
   "cell_type": "code",
   "execution_count": 85,
   "metadata": {},
   "outputs": [],
   "source": [
    "cifar10_labels = [\n",
    "    \"airplane\", \"automobile\", \"bird\", \"cat\", \"deer\",\n",
    "    \"dog\", \"frog\", \"horse\", \"ship\", \"truck\"\n",
    "]"
   ]
  },
  {
   "cell_type": "code",
   "execution_count": 86,
   "metadata": {},
   "outputs": [
    {
     "data": {
      "image/png": "[encoded data removed]",
      "text/plain": [
       "<Figure size 800x800 with 9 Axes>"
      ]
     },
     "metadata": {},
     "output_type": "display_data"
    }
   ],
   "source": [
    "# Créer la figure\n",
    "figure = plt.figure(figsize=(8, 8))\n",
    "cols, rows = 3, 3\n",
    "\n",
    "for i in range(1, cols * rows + 1):\n",
    "    sample_idx = torch.randint(len(training_dataset), size=(1,)).item()\n",
    "    img, label = training_dataset[sample_idx]\n",
    "    \n",
    "    figure.add_subplot(rows, cols, i)\n",
    "    plt.title(cifar10_labels[label])\n",
    "    plt.axis(\"off\")\n",
    "    \n",
    "    # Convertir (C, H, W) en (H, W, C)\n",
    "    plt.imshow(img.permute(1, 2, 0))  \n",
    "\n",
    "plt.show()\n"
   ]
  },
  {
   "cell_type": "code",
   "execution_count": 87,
   "metadata": {},
   "outputs": [],
   "source": [
    "import torch\n",
    "import torch.nn as nn\n",
    "\n",
    "class CNN(nn.Module):\n",
    "    def __init__(self):\n",
    "        super(CNN, self).__init__()\n",
    "        \n",
    "        # ? Bloc 1 : 2 Convolutions + BatchNorm + Dropout\n",
    "        self.conv_block1 = nn.Sequential(\n",
    "            nn.Conv2d(in_channels=3, out_channels=32, kernel_size=3, padding=1),\n",
    "            nn.ReLU(),\n",
    "            nn.BatchNorm2d(32),\n",
    "            nn.Dropout(0.1),\n",
    "\n",
    "            nn.Conv2d(in_channels=32, out_channels=32, kernel_size=3, padding=1),\n",
    "            nn.ReLU(),\n",
    "            nn.BatchNorm2d(32),\n",
    "            nn.Dropout(0.1),\n",
    "\n",
    "            nn.MaxPool2d(kernel_size=2, stride=2)  # ! Réduction → (16x16)\n",
    "        )\n",
    "\n",
    "        # ? Bloc 2 : 2 Convolutions + BatchNorm + Dropout\n",
    "        self.conv_block2 = nn.Sequential(\n",
    "            nn.Conv2d(in_channels=32, out_channels=64, kernel_size=3, padding=1),\n",
    "            nn.ReLU(),\n",
    "            nn.BatchNorm2d(64),\n",
    "            nn.Dropout(0.1),\n",
    "\n",
    "            nn.Conv2d(in_channels=64, out_channels=64, kernel_size=3, padding=1),\n",
    "            nn.ReLU(),\n",
    "            nn.BatchNorm2d(64),\n",
    "            nn.Dropout(0.1),\n",
    "\n",
    "            nn.MaxPool2d(kernel_size=2, stride=2)  # ! Réduction → (8x8)\n",
    "        )\n",
    "\n",
    "        # ? Bloc 3 : 2 Convolutions + BatchNorm + Dropout\n",
    "        self.conv_block3 = nn.Sequential(\n",
    "            nn.Conv2d(in_channels=64, out_channels=128, kernel_size=3, padding=1),\n",
    "            nn.ReLU(),\n",
    "            nn.BatchNorm2d(128),\n",
    "            nn.Dropout(0.1),\n",
    "\n",
    "            nn.Conv2d(in_channels=128, out_channels=128, kernel_size=3, padding=1),\n",
    "            nn.ReLU(),\n",
    "            nn.BatchNorm2d(128),\n",
    "            nn.Dropout(0.1),\n",
    "\n",
    "            nn.MaxPool2d(kernel_size=2, stride=2)  # ! Réduction → (4x4)\n",
    "        )\n",
    "\n",
    "        # ? Fully connected layers (MLP)\n",
    "        self.mlp = nn.Sequential(\n",
    "            nn.Flatten(),\n",
    "            nn.Linear(128 * 4 * 4, 256),\n",
    "            nn.ReLU(),\n",
    "            nn.Dropout(0.3),\n",
    "            \n",
    "            nn.Linear(256, 128),\n",
    "            nn.ReLU(),\n",
    "            nn.Dropout(0.3),\n",
    "\n",
    "            nn.Linear(128, 10)  # 10 classes pour CIFAR-10\n",
    "        )\n",
    "    \n",
    "    def forward(self, x):\n",
    "        x = self.conv_block1(x)\n",
    "        x = self.conv_block2(x)\n",
    "        x = self.conv_block3(x)\n",
    "        x = self.mlp(x)\n",
    "        return x"
   ]
  },
  {
   "cell_type": "code",
   "execution_count": 88,
   "metadata": {},
   "outputs": [],
   "source": [
    "class MiniVGG(nn.Module):\n",
    "    def __init__(self, num_classes=10):\n",
    "        super(MiniVGG, self).__init__()\n",
    "        \n",
    "        self.features = nn.Sequential(\n",
    "            # Bloc 1\n",
    "            nn.Conv2d(3, 64, kernel_size=3, padding=1),\n",
    "            nn.ReLU(inplace=True),\n",
    "            nn.Conv2d(64, 64, kernel_size=3, padding=1),\n",
    "            nn.ReLU(inplace=True),\n",
    "            nn.MaxPool2d(kernel_size=2, stride=2),  # réduction → 16x16\n",
    "\n",
    "            # Bloc 2\n",
    "            nn.Conv2d(64, 128, kernel_size=3, padding=1),\n",
    "            nn.ReLU(inplace=True),\n",
    "            nn.Conv2d(128, 128, kernel_size=3, padding=1),\n",
    "            nn.ReLU(inplace=True),\n",
    "            nn.MaxPool2d(kernel_size=2, stride=2),  # réduction → 8x8\n",
    "\n",
    "            # Bloc 3\n",
    "            nn.Conv2d(128, 256, kernel_size=3, padding=1),\n",
    "            nn.ReLU(inplace=True),\n",
    "            nn.Conv2d(256, 256, kernel_size=3, padding=1),\n",
    "            nn.ReLU(inplace=True),\n",
    "            nn.MaxPool2d(kernel_size=2, stride=2),  # réduction → 4x4\n",
    "        )\n",
    "        \n",
    "        self.classifier = nn.Sequential(\n",
    "            nn.Linear(256 * 4 * 4, 256),\n",
    "            nn.ReLU(inplace=True),\n",
    "            nn.Dropout(0.5),\n",
    "            \n",
    "            nn.Linear(256, num_classes)\n",
    "        )\n",
    "    \n",
    "    def forward(self, x):\n",
    "        x = self.features(x)       # (N, 256, 4, 4)\n",
    "        x = x.view(x.size(0), -1)  # flatten\n",
    "        x = self.classifier(x)\n",
    "        return x"
   ]
  },
  {
   "cell_type": "code",
   "execution_count": 89,
   "metadata": {},
   "outputs": [
    {
     "name": "stdout",
     "output_type": "stream",
     "text": [
      "Accélérateur: mps\n"
     ]
    }
   ],
   "source": [
    "device = \"mps\" if torch.mps.is_available() else \"cpu\"\n",
    "print(f\"Accélérateur: {device}\")\n",
    "\n",
    "# Instancier le modèle (MiniVGG) et la fonction de perte\n",
    "cnn = CNN().to(device)\n",
    "loss_fn = nn.CrossEntropyLoss().to(device)  # * Expect raw logits\n",
    "\n",
    "import torch.optim as optim\n",
    "optimizer = optim.AdamW(cnn.parameters(), lr=1e-3, weight_decay=1e-4)\n",
    "\n",
    "# Scheduler qui réduit le LR d’un facteur 0.1 tous les 15 epochs\n",
    "scheduler = optim.lr_scheduler.StepLR(optimizer, step_size=15, gamma=0.1)\n",
    "\n",
    "epochs = 10\n"
   ]
  },
  {
   "cell_type": "code",
   "execution_count": 90,
   "metadata": {},
   "outputs": [],
   "source": [
    "from torch.utils.tensorboard import SummaryWriter\n",
    "writer = SummaryWriter('runs/mnist_experiment_6')\n",
    "\n",
    "def train_loop(dataloader, model, loss_fn, optimizer, batch_size):\n",
    "    model.train()\n",
    "    epoch_loss = 0\n",
    "    correct = 0\n",
    "    \n",
    "    for X, y in dataloader:\n",
    "        X, y = X.to(device), y.to(device)\n",
    "        \n",
    "        # Forward\n",
    "        pred = model(X)\n",
    "        loss = loss_fn(pred, y)\n",
    "\n",
    "        # Backprop\n",
    "        optimizer.zero_grad()\n",
    "        loss.backward()\n",
    "        optimizer.step()\n",
    "        \n",
    "        # Statistiques\n",
    "        epoch_loss += loss.item()\n",
    "        correct += (pred.argmax(dim=1) == y).float().sum().item()\n",
    "    \n",
    "    return epoch_loss / len(dataloader), (correct / len(dataloader.dataset)) * 100\n",
    "\n",
    "def test_loop(dataloader, model, loss_fn):\n",
    "    model.eval()\n",
    "    test_loss, correct = 0, 0\n",
    "    \n",
    "    with torch.no_grad():\n",
    "        for X, y in dataloader:\n",
    "            X, y = X.to(device), y.to(device)\n",
    "            pred = model(X)\n",
    "            test_loss += loss_fn(pred, y).item()\n",
    "            correct += (pred.argmax(dim=1) == y).float().sum().item()\n",
    "    \n",
    "    return test_loss / len(dataloader), (correct / len(dataloader.dataset)) * 100\n",
    "\n",
    "def train_and_test(dataloader_train, dataloader_test, model, loss_fn, optimizer, scheduler, epochs, batch_size):\n",
    "    for epoch in range(epochs):\n",
    "        print(f\"Epoch {epoch+1}/{epochs}\")\n",
    "        \n",
    "        # Entraînement\n",
    "        train_loss, train_acc = train_loop(dataloader_train, model, loss_fn, optimizer, batch_size)\n",
    "        writer.add_scalars('Loss', {'train': train_loss}, epoch)\n",
    "        writer.add_scalars('Accuracy', {'train': train_acc}, epoch)\n",
    "\n",
    "        # Évaluation\n",
    "        test_loss, test_acc = test_loop(dataloader_test, model, loss_fn)\n",
    "        writer.add_scalars('Loss', {'test': test_loss}, epoch)\n",
    "        writer.add_scalars('Accuracy', {'test': test_acc}, epoch)\n",
    "\n",
    "        # Étape du scheduler (réduction du LR si besoin)\n",
    "        scheduler.step()\n",
    "\n",
    "        print(f\"Epoch {epoch+1}/{epochs} complete - \"\n",
    "              f\"Train Loss: {train_loss:.4f}, Train Acc: {train_acc:.2f}% | \"\n",
    "              f\"Test Loss: {test_loss:.4f}, Test Acc: {test_acc:.2f}%\\n\")\n"
   ]
  },
  {
   "cell_type": "code",
   "execution_count": null,
   "metadata": {},
   "outputs": [
    {
     "name": "stdout",
     "output_type": "stream",
     "text": [
      "Epoch 1/10\n",
      "Epoch 1/10 complete - Train Loss: 1.3141, Train Acc: 52.68% | Test Loss: 0.9645, Test Acc: 66.23%\n",
      "\n",
      "Epoch 2/10\n",
      "Epoch 2/10 complete - Train Loss: 0.8893, Train Acc: 69.33% | Test Loss: 0.8367, Test Acc: 71.82%\n",
      "\n",
      "Epoch 3/10\n",
      "Epoch 3/10 complete - Train Loss: 0.7296, Train Acc: 75.38% | Test Loss: 0.7081, Test Acc: 75.56%\n",
      "\n",
      "Epoch 4/10\n"
     ]
    }
   ],
   "source": [
    "train_and_test(train_dataloader_v2, test_dataloader_v2, cnn, loss_fn, optimizer, scheduler, epochs, batch_size)\n"
   ]
  },
  {
   "cell_type": "code",
   "execution_count": null,
   "metadata": {},
   "outputs": [
    {
     "name": "stdout",
     "output_type": "stream",
     "text": [
      "Exported graph: graph(%input : Float(*, 3, 32, 32, strides=[3072, 1024, 32, 1], requires_grad=0, device=cpu),\n",
      "      %conv_block1.0.weight : Float(32, 3, 3, 3, strides=[27, 9, 3, 1], requires_grad=1, device=cpu),\n",
      "      %conv_block1.0.bias : Float(32, strides=[1], requires_grad=1, device=cpu),\n",
      "      %conv_block1.2.weight : Float(32, strides=[1], requires_grad=1, device=cpu),\n",
      "      %conv_block1.2.bias : Float(32, strides=[1], requires_grad=1, device=cpu),\n",
      "      %conv_block1.2.running_mean : Float(32, strides=[1], requires_grad=0, device=cpu),\n",
      "      %conv_block1.2.running_var : Float(32, strides=[1], requires_grad=0, device=cpu),\n",
      "      %conv_block1.4.weight : Float(32, 32, 3, 3, strides=[288, 9, 3, 1], requires_grad=1, device=cpu),\n",
      "      %conv_block1.4.bias : Float(32, strides=[1], requires_grad=1, device=cpu),\n",
      "      %conv_block1.6.weight : Float(32, strides=[1], requires_grad=1, device=cpu),\n",
      "      %conv_block1.6.bias : Float(32, strides=[1], requires_grad=1, device=cpu),\n",
      "      %conv_block1.6.running_mean : Float(32, strides=[1], requires_grad=0, device=cpu),\n",
      "      %conv_block1.6.running_var : Float(32, strides=[1], requires_grad=0, device=cpu),\n",
      "      %conv_block2.0.weight : Float(64, 32, 3, 3, strides=[288, 9, 3, 1], requires_grad=1, device=cpu),\n",
      "      %conv_block2.0.bias : Float(64, strides=[1], requires_grad=1, device=cpu),\n",
      "      %conv_block2.2.weight : Float(64, strides=[1], requires_grad=1, device=cpu),\n",
      "      %conv_block2.2.bias : Float(64, strides=[1], requires_grad=1, device=cpu),\n",
      "      %conv_block2.2.running_mean : Float(64, strides=[1], requires_grad=0, device=cpu),\n",
      "      %conv_block2.2.running_var : Float(64, strides=[1], requires_grad=0, device=cpu),\n",
      "      %conv_block2.4.weight : Float(64, 64, 3, 3, strides=[576, 9, 3, 1], requires_grad=1, device=cpu),\n",
      "      %conv_block2.4.bias : Float(64, strides=[1], requires_grad=1, device=cpu),\n",
      "      %conv_block2.6.weight : Float(64, strides=[1], requires_grad=1, device=cpu),\n",
      "      %conv_block2.6.bias : Float(64, strides=[1], requires_grad=1, device=cpu),\n",
      "      %conv_block2.6.running_mean : Float(64, strides=[1], requires_grad=0, device=cpu),\n",
      "      %conv_block2.6.running_var : Float(64, strides=[1], requires_grad=0, device=cpu),\n",
      "      %conv_block3.0.weight : Float(128, 64, 3, 3, strides=[576, 9, 3, 1], requires_grad=1, device=cpu),\n",
      "      %conv_block3.0.bias : Float(128, strides=[1], requires_grad=1, device=cpu),\n",
      "      %conv_block3.2.weight : Float(128, strides=[1], requires_grad=1, device=cpu),\n",
      "      %conv_block3.2.bias : Float(128, strides=[1], requires_grad=1, device=cpu),\n",
      "      %conv_block3.2.running_mean : Float(128, strides=[1], requires_grad=0, device=cpu),\n",
      "      %conv_block3.2.running_var : Float(128, strides=[1], requires_grad=0, device=cpu),\n",
      "      %conv_block3.4.weight : Float(128, 128, 3, 3, strides=[1152, 9, 3, 1], requires_grad=1, device=cpu),\n",
      "      %conv_block3.4.bias : Float(128, strides=[1], requires_grad=1, device=cpu),\n",
      "      %conv_block3.6.weight : Float(128, strides=[1], requires_grad=1, device=cpu),\n",
      "      %conv_block3.6.bias : Float(128, strides=[1], requires_grad=1, device=cpu),\n",
      "      %conv_block3.6.running_mean : Float(128, strides=[1], requires_grad=0, device=cpu),\n",
      "      %conv_block3.6.running_var : Float(128, strides=[1], requires_grad=0, device=cpu),\n",
      "      %mlp.1.weight : Float(256, 2048, strides=[2048, 1], requires_grad=1, device=cpu),\n",
      "      %mlp.1.bias : Float(256, strides=[1], requires_grad=1, device=cpu),\n",
      "      %mlp.4.weight : Float(128, 256, strides=[256, 1], requires_grad=1, device=cpu),\n",
      "      %mlp.4.bias : Float(128, strides=[1], requires_grad=1, device=cpu),\n",
      "      %mlp.7.weight : Float(10, 128, strides=[128, 1], requires_grad=1, device=cpu),\n",
      "      %mlp.7.bias : Float(10, strides=[1], requires_grad=1, device=cpu)):\n",
      "  %/conv_block1/conv_block1.0/Conv_output_0 : Float(*, 32, 32, 32, strides=[32768, 1024, 32, 1], requires_grad=0, device=cpu) = onnx::Conv[dilations=[1, 1], group=1, kernel_shape=[3, 3], pads=[1, 1, 1, 1], strides=[1, 1], onnx_name=\"/conv_block1/conv_block1.0/Conv\"](%input, %conv_block1.0.weight, %conv_block1.0.bias), scope: __main__.CNN::/torch.nn.modules.container.Sequential::conv_block1/torch.nn.modules.conv.Conv2d::conv_block1.0 # /Users/dately/Documents/gaspardCours/deeplearning/env/lib/python3.12/site-packages/torch/nn/modules/conv.py:549:0\n",
      "  %/conv_block1/conv_block1.1/Relu_output_0 : Float(*, 32, 32, 32, strides=[32768, 1024, 32, 1], requires_grad=1, device=cpu) = onnx::Relu[onnx_name=\"/conv_block1/conv_block1.1/Relu\"](%/conv_block1/conv_block1.0/Conv_output_0), scope: __main__.CNN::/torch.nn.modules.container.Sequential::conv_block1/torch.nn.modules.activation.ReLU::conv_block1.1 # /Users/dately/Documents/gaspardCours/deeplearning/env/lib/python3.12/site-packages/torch/nn/functional.py:1704:0\n",
      "  %/conv_block1/conv_block1.2/BatchNormalization_output_0 : Float(*, 32, 32, 32, strides=[32768, 1024, 32, 1], requires_grad=1, device=cpu) = onnx::BatchNormalization[epsilon=1.0000000000000001e-05, momentum=0.90000000000000002, onnx_name=\"/conv_block1/conv_block1.2/BatchNormalization\"](%/conv_block1/conv_block1.1/Relu_output_0, %conv_block1.2.weight, %conv_block1.2.bias, %conv_block1.2.running_mean, %conv_block1.2.running_var), scope: __main__.CNN::/torch.nn.modules.container.Sequential::conv_block1/torch.nn.modules.batchnorm.BatchNorm2d::conv_block1.2 # /Users/dately/Documents/gaspardCours/deeplearning/env/lib/python3.12/site-packages/torch/nn/functional.py:2812:0\n",
      "  %/conv_block1/conv_block1.4/Conv_output_0 : Float(*, 32, 32, 32, strides=[32768, 1024, 32, 1], requires_grad=0, device=cpu) = onnx::Conv[dilations=[1, 1], group=1, kernel_shape=[3, 3], pads=[1, 1, 1, 1], strides=[1, 1], onnx_name=\"/conv_block1/conv_block1.4/Conv\"](%/conv_block1/conv_block1.2/BatchNormalization_output_0, %conv_block1.4.weight, %conv_block1.4.bias), scope: __main__.CNN::/torch.nn.modules.container.Sequential::conv_block1/torch.nn.modules.conv.Conv2d::conv_block1.4 # /Users/dately/Documents/gaspardCours/deeplearning/env/lib/python3.12/site-packages/torch/nn/modules/conv.py:549:0\n",
      "  %/conv_block1/conv_block1.5/Relu_output_0 : Float(*, 32, 32, 32, strides=[32768, 1024, 32, 1], requires_grad=1, device=cpu) = onnx::Relu[onnx_name=\"/conv_block1/conv_block1.5/Relu\"](%/conv_block1/conv_block1.4/Conv_output_0), scope: __main__.CNN::/torch.nn.modules.container.Sequential::conv_block1/torch.nn.modules.activation.ReLU::conv_block1.5 # /Users/dately/Documents/gaspardCours/deeplearning/env/lib/python3.12/site-packages/torch/nn/functional.py:1704:0\n",
      "  %/conv_block1/conv_block1.6/BatchNormalization_output_0 : Float(*, 32, 32, 32, strides=[32768, 1024, 32, 1], requires_grad=1, device=cpu) = onnx::BatchNormalization[epsilon=1.0000000000000001e-05, momentum=0.90000000000000002, onnx_name=\"/conv_block1/conv_block1.6/BatchNormalization\"](%/conv_block1/conv_block1.5/Relu_output_0, %conv_block1.6.weight, %conv_block1.6.bias, %conv_block1.6.running_mean, %conv_block1.6.running_var), scope: __main__.CNN::/torch.nn.modules.container.Sequential::conv_block1/torch.nn.modules.batchnorm.BatchNorm2d::conv_block1.6 # /Users/dately/Documents/gaspardCours/deeplearning/env/lib/python3.12/site-packages/torch/nn/functional.py:2812:0\n",
      "  %/conv_block1/conv_block1.8/MaxPool_output_0 : Float(*, 32, 16, 16, strides=[8192, 256, 16, 1], requires_grad=1, device=cpu) = onnx::MaxPool[ceil_mode=0, dilations=[1, 1], kernel_shape=[2, 2], pads=[0, 0, 0, 0], strides=[2, 2], onnx_name=\"/conv_block1/conv_block1.8/MaxPool\"](%/conv_block1/conv_block1.6/BatchNormalization_output_0), scope: __main__.CNN::/torch.nn.modules.container.Sequential::conv_block1/torch.nn.modules.pooling.MaxPool2d::conv_block1.8 # /Users/dately/Documents/gaspardCours/deeplearning/env/lib/python3.12/site-packages/torch/nn/functional.py:830:0\n",
      "  %/conv_block2/conv_block2.0/Conv_output_0 : Float(*, 64, 16, 16, strides=[16384, 256, 16, 1], requires_grad=0, device=cpu) = onnx::Conv[dilations=[1, 1], group=1, kernel_shape=[3, 3], pads=[1, 1, 1, 1], strides=[1, 1], onnx_name=\"/conv_block2/conv_block2.0/Conv\"](%/conv_block1/conv_block1.8/MaxPool_output_0, %conv_block2.0.weight, %conv_block2.0.bias), scope: __main__.CNN::/torch.nn.modules.container.Sequential::conv_block2/torch.nn.modules.conv.Conv2d::conv_block2.0 # /Users/dately/Documents/gaspardCours/deeplearning/env/lib/python3.12/site-packages/torch/nn/modules/conv.py:549:0\n",
      "  %/conv_block2/conv_block2.1/Relu_output_0 : Float(*, 64, 16, 16, strides=[16384, 256, 16, 1], requires_grad=1, device=cpu) = onnx::Relu[onnx_name=\"/conv_block2/conv_block2.1/Relu\"](%/conv_block2/conv_block2.0/Conv_output_0), scope: __main__.CNN::/torch.nn.modules.container.Sequential::conv_block2/torch.nn.modules.activation.ReLU::conv_block2.1 # /Users/dately/Documents/gaspardCours/deeplearning/env/lib/python3.12/site-packages/torch/nn/functional.py:1704:0\n",
      "  %/conv_block2/conv_block2.2/BatchNormalization_output_0 : Float(*, 64, 16, 16, strides=[16384, 256, 16, 1], requires_grad=1, device=cpu) = onnx::BatchNormalization[epsilon=1.0000000000000001e-05, momentum=0.90000000000000002, onnx_name=\"/conv_block2/conv_block2.2/BatchNormalization\"](%/conv_block2/conv_block2.1/Relu_output_0, %conv_block2.2.weight, %conv_block2.2.bias, %conv_block2.2.running_mean, %conv_block2.2.running_var), scope: __main__.CNN::/torch.nn.modules.container.Sequential::conv_block2/torch.nn.modules.batchnorm.BatchNorm2d::conv_block2.2 # /Users/dately/Documents/gaspardCours/deeplearning/env/lib/python3.12/site-packages/torch/nn/functional.py:2812:0\n",
      "  %/conv_block2/conv_block2.4/Conv_output_0 : Float(*, 64, 16, 16, strides=[16384, 256, 16, 1], requires_grad=0, device=cpu) = onnx::Conv[dilations=[1, 1], group=1, kernel_shape=[3, 3], pads=[1, 1, 1, 1], strides=[1, 1], onnx_name=\"/conv_block2/conv_block2.4/Conv\"](%/conv_block2/conv_block2.2/BatchNormalization_output_0, %conv_block2.4.weight, %conv_block2.4.bias), scope: __main__.CNN::/torch.nn.modules.container.Sequential::conv_block2/torch.nn.modules.conv.Conv2d::conv_block2.4 # /Users/dately/Documents/gaspardCours/deeplearning/env/lib/python3.12/site-packages/torch/nn/modules/conv.py:549:0\n",
      "  %/conv_block2/conv_block2.5/Relu_output_0 : Float(*, 64, 16, 16, strides=[16384, 256, 16, 1], requires_grad=1, device=cpu) = onnx::Relu[onnx_name=\"/conv_block2/conv_block2.5/Relu\"](%/conv_block2/conv_block2.4/Conv_output_0), scope: __main__.CNN::/torch.nn.modules.container.Sequential::conv_block2/torch.nn.modules.activation.ReLU::conv_block2.5 # /Users/dately/Documents/gaspardCours/deeplearning/env/lib/python3.12/site-packages/torch/nn/functional.py:1704:0\n",
      "  %/conv_block2/conv_block2.6/BatchNormalization_output_0 : Float(*, 64, 16, 16, strides=[16384, 256, 16, 1], requires_grad=1, device=cpu) = onnx::BatchNormalization[epsilon=1.0000000000000001e-05, momentum=0.90000000000000002, onnx_name=\"/conv_block2/conv_block2.6/BatchNormalization\"](%/conv_block2/conv_block2.5/Relu_output_0, %conv_block2.6.weight, %conv_block2.6.bias, %conv_block2.6.running_mean, %conv_block2.6.running_var), scope: __main__.CNN::/torch.nn.modules.container.Sequential::conv_block2/torch.nn.modules.batchnorm.BatchNorm2d::conv_block2.6 # /Users/dately/Documents/gaspardCours/deeplearning/env/lib/python3.12/site-packages/torch/nn/functional.py:2812:0\n",
      "  %/conv_block2/conv_block2.8/MaxPool_output_0 : Float(*, 64, 8, 8, strides=[4096, 64, 8, 1], requires_grad=1, device=cpu) = onnx::MaxPool[ceil_mode=0, dilations=[1, 1], kernel_shape=[2, 2], pads=[0, 0, 0, 0], strides=[2, 2], onnx_name=\"/conv_block2/conv_block2.8/MaxPool\"](%/conv_block2/conv_block2.6/BatchNormalization_output_0), scope: __main__.CNN::/torch.nn.modules.container.Sequential::conv_block2/torch.nn.modules.pooling.MaxPool2d::conv_block2.8 # /Users/dately/Documents/gaspardCours/deeplearning/env/lib/python3.12/site-packages/torch/nn/functional.py:830:0\n",
      "  %/conv_block3/conv_block3.0/Conv_output_0 : Float(*, 128, 8, 8, strides=[8192, 64, 8, 1], requires_grad=0, device=cpu) = onnx::Conv[dilations=[1, 1], group=1, kernel_shape=[3, 3], pads=[1, 1, 1, 1], strides=[1, 1], onnx_name=\"/conv_block3/conv_block3.0/Conv\"](%/conv_block2/conv_block2.8/MaxPool_output_0, %conv_block3.0.weight, %conv_block3.0.bias), scope: __main__.CNN::/torch.nn.modules.container.Sequential::conv_block3/torch.nn.modules.conv.Conv2d::conv_block3.0 # /Users/dately/Documents/gaspardCours/deeplearning/env/lib/python3.12/site-packages/torch/nn/modules/conv.py:549:0\n",
      "  %/conv_block3/conv_block3.1/Relu_output_0 : Float(*, 128, 8, 8, strides=[8192, 64, 8, 1], requires_grad=1, device=cpu) = onnx::Relu[onnx_name=\"/conv_block3/conv_block3.1/Relu\"](%/conv_block3/conv_block3.0/Conv_output_0), scope: __main__.CNN::/torch.nn.modules.container.Sequential::conv_block3/torch.nn.modules.activation.ReLU::conv_block3.1 # /Users/dately/Documents/gaspardCours/deeplearning/env/lib/python3.12/site-packages/torch/nn/functional.py:1704:0\n",
      "  %/conv_block3/conv_block3.2/BatchNormalization_output_0 : Float(*, 128, 8, 8, strides=[8192, 64, 8, 1], requires_grad=1, device=cpu) = onnx::BatchNormalization[epsilon=1.0000000000000001e-05, momentum=0.90000000000000002, onnx_name=\"/conv_block3/conv_block3.2/BatchNormalization\"](%/conv_block3/conv_block3.1/Relu_output_0, %conv_block3.2.weight, %conv_block3.2.bias, %conv_block3.2.running_mean, %conv_block3.2.running_var), scope: __main__.CNN::/torch.nn.modules.container.Sequential::conv_block3/torch.nn.modules.batchnorm.BatchNorm2d::conv_block3.2 # /Users/dately/Documents/gaspardCours/deeplearning/env/lib/python3.12/site-packages/torch/nn/functional.py:2812:0\n",
      "  %/conv_block3/conv_block3.4/Conv_output_0 : Float(*, 128, 8, 8, strides=[8192, 64, 8, 1], requires_grad=0, device=cpu) = onnx::Conv[dilations=[1, 1], group=1, kernel_shape=[3, 3], pads=[1, 1, 1, 1], strides=[1, 1], onnx_name=\"/conv_block3/conv_block3.4/Conv\"](%/conv_block3/conv_block3.2/BatchNormalization_output_0, %conv_block3.4.weight, %conv_block3.4.bias), scope: __main__.CNN::/torch.nn.modules.container.Sequential::conv_block3/torch.nn.modules.conv.Conv2d::conv_block3.4 # /Users/dately/Documents/gaspardCours/deeplearning/env/lib/python3.12/site-packages/torch/nn/modules/conv.py:549:0\n",
      "  %/conv_block3/conv_block3.5/Relu_output_0 : Float(*, 128, 8, 8, strides=[8192, 64, 8, 1], requires_grad=1, device=cpu) = onnx::Relu[onnx_name=\"/conv_block3/conv_block3.5/Relu\"](%/conv_block3/conv_block3.4/Conv_output_0), scope: __main__.CNN::/torch.nn.modules.container.Sequential::conv_block3/torch.nn.modules.activation.ReLU::conv_block3.5 # /Users/dately/Documents/gaspardCours/deeplearning/env/lib/python3.12/site-packages/torch/nn/functional.py:1704:0\n",
      "  %/conv_block3/conv_block3.6/BatchNormalization_output_0 : Float(*, 128, 8, 8, strides=[8192, 64, 8, 1], requires_grad=1, device=cpu) = onnx::BatchNormalization[epsilon=1.0000000000000001e-05, momentum=0.90000000000000002, onnx_name=\"/conv_block3/conv_block3.6/BatchNormalization\"](%/conv_block3/conv_block3.5/Relu_output_0, %conv_block3.6.weight, %conv_block3.6.bias, %conv_block3.6.running_mean, %conv_block3.6.running_var), scope: __main__.CNN::/torch.nn.modules.container.Sequential::conv_block3/torch.nn.modules.batchnorm.BatchNorm2d::conv_block3.6 # /Users/dately/Documents/gaspardCours/deeplearning/env/lib/python3.12/site-packages/torch/nn/functional.py:2812:0\n",
      "  %/conv_block3/conv_block3.8/MaxPool_output_0 : Float(*, 128, 4, 4, strides=[2048, 16, 4, 1], requires_grad=1, device=cpu) = onnx::MaxPool[ceil_mode=0, dilations=[1, 1], kernel_shape=[2, 2], pads=[0, 0, 0, 0], strides=[2, 2], onnx_name=\"/conv_block3/conv_block3.8/MaxPool\"](%/conv_block3/conv_block3.6/BatchNormalization_output_0), scope: __main__.CNN::/torch.nn.modules.container.Sequential::conv_block3/torch.nn.modules.pooling.MaxPool2d::conv_block3.8 # /Users/dately/Documents/gaspardCours/deeplearning/env/lib/python3.12/site-packages/torch/nn/functional.py:830:0\n",
      "  %/mlp/mlp.0/Flatten_output_0 : Float(*, 2048, strides=[2048, 1], requires_grad=1, device=cpu) = onnx::Flatten[axis=1, onnx_name=\"/mlp/mlp.0/Flatten\"](%/conv_block3/conv_block3.8/MaxPool_output_0), scope: __main__.CNN::/torch.nn.modules.container.Sequential::mlp/torch.nn.modules.flatten.Flatten::mlp.0 # /Users/dately/Documents/gaspardCours/deeplearning/env/lib/python3.12/site-packages/torch/nn/modules/flatten.py:53:0\n",
      "  %/mlp/mlp.1/Gemm_output_0 : Float(*, 256, strides=[256, 1], requires_grad=1, device=cpu) = onnx::Gemm[alpha=1., beta=1., transB=1, onnx_name=\"/mlp/mlp.1/Gemm\"](%/mlp/mlp.0/Flatten_output_0, %mlp.1.weight, %mlp.1.bias), scope: __main__.CNN::/torch.nn.modules.container.Sequential::mlp/torch.nn.modules.linear.Linear::mlp.1 # /Users/dately/Documents/gaspardCours/deeplearning/env/lib/python3.12/site-packages/torch/nn/modules/linear.py:125:0\n",
      "  %/mlp/mlp.2/Relu_output_0 : Float(*, 256, strides=[256, 1], requires_grad=1, device=cpu) = onnx::Relu[onnx_name=\"/mlp/mlp.2/Relu\"](%/mlp/mlp.1/Gemm_output_0), scope: __main__.CNN::/torch.nn.modules.container.Sequential::mlp/torch.nn.modules.activation.ReLU::mlp.2 # /Users/dately/Documents/gaspardCours/deeplearning/env/lib/python3.12/site-packages/torch/nn/functional.py:1704:0\n",
      "  %/mlp/mlp.4/Gemm_output_0 : Float(*, 128, strides=[128, 1], requires_grad=1, device=cpu) = onnx::Gemm[alpha=1., beta=1., transB=1, onnx_name=\"/mlp/mlp.4/Gemm\"](%/mlp/mlp.2/Relu_output_0, %mlp.4.weight, %mlp.4.bias), scope: __main__.CNN::/torch.nn.modules.container.Sequential::mlp/torch.nn.modules.linear.Linear::mlp.4 # /Users/dately/Documents/gaspardCours/deeplearning/env/lib/python3.12/site-packages/torch/nn/modules/linear.py:125:0\n",
      "  %/mlp/mlp.5/Relu_output_0 : Float(*, 128, strides=[128, 1], requires_grad=1, device=cpu) = onnx::Relu[onnx_name=\"/mlp/mlp.5/Relu\"](%/mlp/mlp.4/Gemm_output_0), scope: __main__.CNN::/torch.nn.modules.container.Sequential::mlp/torch.nn.modules.activation.ReLU::mlp.5 # /Users/dately/Documents/gaspardCours/deeplearning/env/lib/python3.12/site-packages/torch/nn/functional.py:1704:0\n",
      "  %output : Float(*, 10, strides=[10, 1], requires_grad=1, device=cpu) = onnx::Gemm[alpha=1., beta=1., transB=1, onnx_name=\"/mlp/mlp.7/Gemm\"](%/mlp/mlp.5/Relu_output_0, %mlp.7.weight, %mlp.7.bias), scope: __main__.CNN::/torch.nn.modules.container.Sequential::mlp/torch.nn.modules.linear.Linear::mlp.7 # /Users/dately/Documents/gaspardCours/deeplearning/env/lib/python3.12/site-packages/torch/nn/modules/linear.py:125:0\n",
      "  return (%output)\n",
      "\n"
     ]
    }
   ],
   "source": [
    "cnn.eval()\n",
    "cnn.to(\"cpu\")\n",
    "torch_input = torch.randn(1, 3, 32, 32)  # ? N (batch_size), C (channels), H (height), W (width)\n",
    "\n",
    "# Exporter le modèle en ONNX\n",
    "torch.onnx.export(\n",
    "    cnn,\n",
    "    torch_input,\n",
    "    \"model_cifar_ep20.onnx\",\n",
    "    verbose=True,\n",
    "    input_names=[\"input\"],\n",
    "    output_names=[\"output\"],\n",
    "    opset_version=11, # ! Version de l'opset ONNX utilisée\n",
    "    export_params=True,\n",
    "    do_constant_folding=True,\n",
    "    dynamic_axes={\n",
    "        \"input\": {0: \"batch_size\"},\n",
    "        \"output\": {0: \"batch_size\"}\n",
    "    }\n",
    ")"
   ]
  }
 ],
 "metadata": {
  "kernelspec": {
   "display_name": "env",
   "language": "python",
   "name": "python3"
  },
  "language_info": {
   "codemirror_mode": {
    "name": "ipython",
    "version": 3
   },
   "file_extension": ".py",
   "mimetype": "text/x-python",
   "name": "python",
   "nbconvert_exporter": "python",
   "pygments_lexer": "ipython3",
   "version": "3.12.8"
  }
 },
 "nbformat": 4,
 "nbformat_minor": 2
}
